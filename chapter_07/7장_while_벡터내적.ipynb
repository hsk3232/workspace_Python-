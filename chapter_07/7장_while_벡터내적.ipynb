{
 "cells": [
  {
   "cell_type": "markdown",
   "metadata": {},
   "source": [
    "7장 while 문"
   ]
  },
  {
   "cell_type": "code",
   "execution_count": 13,
   "metadata": {},
   "outputs": [
    {
     "name": "stdout",
     "output_type": "stream",
     "text": [
      "num = 5\n",
      "num = 5\n",
      "num = 3\n",
      "num = 1\n"
     ]
    }
   ],
   "source": [
    "n = input(\"입력데이터:\") # powershell terminal에서 $jupyter notebook 실행으로 해결 \n",
    "num = int(n)\n",
    "if num > 0 :\n",
    "    print(f\"num = {num}\")\n",
    "    while (num > 0):\n",
    "        if num % 2 == 1:\n",
    "            print(f\"num = {num}\")\n",
    "        #num--\n",
    "        num -= 1"
   ]
  },
  {
   "cell_type": "code",
   "execution_count": 10,
   "metadata": {},
   "outputs": [
    {
     "name": "stdout",
     "output_type": "stream",
     "text": [
      "['c', 'b', 'a']\n",
      "[]\n",
      "['a', 'b', 'c']\n",
      "['a', 'b', 'c']\n",
      "['c', 'b']\n",
      "['a']\n"
     ]
    }
   ],
   "source": [
    "lst = ['a', 'b', 'c']\n",
    "my_lst = []\n",
    "while lst:\n",
    "    symbol = lst.pop()\n",
    "    my_lst.append(symbol)\n",
    "print(my_lst)\n",
    "print(lst) # 원본 데이터가 손상됨 # 추천하지 않음\n",
    "\n",
    "# while과 for의 차이점을 이해해야 함.\n",
    "\n",
    "lst = ['a', 'b', 'c']\n",
    "my_lst = []\n",
    "for symbol in lst:\n",
    "    my_lst.append(symbol)\n",
    "print(my_lst)\n",
    "print(lst) \n",
    "\n",
    "lst = ['a', 'b', 'c']\n",
    "my_lst = []\n",
    "for symbol in lst: \n",
    "    element = lst.pop() # 첫 번째 pop()을 통해 lst에서 'c'가 삭제됨\n",
    "    my_lst.append(element)\n",
    "print(my_lst)\n",
    "print(lst) \n"
   ]
  },
  {
   "cell_type": "code",
   "execution_count": null,
   "metadata": {},
   "outputs": [
    {
     "name": "stdout",
     "output_type": "stream",
     "text": [
      "[10]\n"
     ]
    }
   ],
   "source": [
    "lst = [] # 빈 리스트\n",
    "while not lst: # 리스트가 비어있으면 True\n",
    "    lst.append(10)\n",
    "    print(lst) # 실행 됨\n",
    "\n",
    "lst = [1, 2, 3]\n",
    "while not lst: # 리스트가 비어있으면 True\n",
    "    lst.append(10)\n",
    "    print(lst) # 실행 안됨\n",
    "\n",
    "lst = [1, 2, 3]\n",
    "# tup = ( )# 빈 튜플\n",
    "while not tup: # 튜플이 비어있으면 True\n",
    "    lst.append(10) # 튜플은 생성 후 append, insert 등 변경이 불가능함으로 애초에 추가가 안됨.\n",
    "    print(lst) # 무한 루프 발생\n"
   ]
  },
  {
   "cell_type": "code",
   "execution_count": 18,
   "metadata": {},
   "outputs": [
    {
     "name": "stdout",
     "output_type": "stream",
     "text": [
      "m = [1, 2, 3, 4]\n",
      "2차원 m = [1, 2, 3, 4]\n",
      "2차원 m = [1, 1, 1, 1]\n",
      "2차원 m = [0, 0, 0, 0]\n"
     ]
    }
   ],
   "source": [
    "lst = [1,2,3,4] # 1차원\n",
    "lst2=[[1,2,3,4]] ## 2차원 \n",
    "for m in lst2:\n",
    "    print(f\"m = {m}\")\n",
    "\n",
    "# 2차원 배열 리스트\n",
    "lst2=[[1,2,3,4],\n",
    "    [1,1,1,1],\n",
    "    [0,0,0,0]] ## 2차원 \n",
    "for m in lst2:\n",
    "    print(f\"2차원 m = {m}\")\n",
    "    "
   ]
  },
  {
   "cell_type": "markdown",
   "metadata": {},
   "source": [
    "y = w0*x0 + w1*x1 + w2*x2 + ... + wn-1 * xn-1 >>행렬 x[[x0,x1,x2 ...]] * w[[w0],[w1],[w2]...] 와 같다 "
   ]
  },
  {
   "cell_type": "code",
   "execution_count": 20,
   "metadata": {},
   "outputs": [
    {
     "name": "stdout",
     "output_type": "stream",
     "text": [
      "[[1, 1, 1, 1, 1]]\n",
      "[[0], [1], [2], [3], [4]]\n",
      "[[10]]\n",
      "[[0, 1, 2, 3, 4]]\n"
     ]
    }
   ],
   "source": [
    "# 행렬 -> [[열] 행]\n",
    "matrix1 = [[1 for _ in range(5)] for _ in range(1)] # range(2)면 행이 2개\n",
    "\n",
    "# 행이 없는 행렬\n",
    "matrix2 = [[i] for i in range(5)]\n",
    "print(matrix1)\n",
    "print(matrix2)\n",
    "# matrix1: 1 x 5, matrix2: 5 x 1 -> result: 1 x 1\n",
    "f = [[sum(a * b[0] for a, b in zip(row, matrix2))] for row in matrix1]\n",
    "f2 = [[a * b[0] for a, b in zip(row, matrix2)] for row in matrix1]\n",
    "print(f)  # [[0]]\n",
    "print(f2)\n",
    "# import numpy as np\n",
    "#f = np.matmul(matrix1, matrix2)"
   ]
  },
  {
   "cell_type": "markdown",
   "metadata": {},
   "source": [
    "### **벡터 내적(dot product)\n",
    "\n"
   ]
  },
  {
   "cell_type": "code",
   "execution_count": null,
   "metadata": {},
   "outputs": [
    {
     "ename": "TypeError",
     "evalue": "can't multiply sequence by non-int of type 'list'",
     "output_type": "error",
     "traceback": [
      "\u001b[1;31m---------------------------------------------------------------------------\u001b[0m",
      "\u001b[1;31mTypeError\u001b[0m                                 Traceback (most recent call last)",
      "Cell \u001b[1;32mIn[7], line 3\u001b[0m\n\u001b[0;32m      1\u001b[0m x \u001b[38;5;241m=\u001b[39m [\u001b[38;5;241m1\u001b[39m,\u001b[38;5;241m2\u001b[39m,\u001b[38;5;241m3\u001b[39m,\u001b[38;5;241m4\u001b[39m]\n\u001b[0;32m      2\u001b[0m w\u001b[38;5;241m=\u001b[39m [\u001b[38;5;241m1\u001b[39m,\u001b[38;5;241m2\u001b[39m,\u001b[38;5;241m3\u001b[39m,\u001b[38;5;241m4\u001b[39m]\n\u001b[1;32m----> 3\u001b[0m p \u001b[38;5;241m=\u001b[39m \u001b[43mx\u001b[49m\u001b[38;5;241;43m*\u001b[39;49m\u001b[43mw\u001b[49m\n\u001b[0;32m      4\u001b[0m \u001b[38;5;28mprint\u001b[39m(p)\n",
      "\u001b[1;31mTypeError\u001b[0m: can't multiply sequence by non-int of type 'list'"
     ]
    }
   ],
   "source": [
    "# 백터 내적 수식 \n",
    "# y = w₀·x₀ + w₁·x₁ + w₂·x₂ + ... + wₙ₋₁·xₙ₋₁\n",
    "x = [1,2,3,4]\n",
    "w= [1,2,3,4]\n",
    "p = x*w\n",
    "print(p) # 에러 can't multiply sequence by non-int of type 'list'"
   ]
  },
  {
   "cell_type": "code",
   "execution_count": null,
   "metadata": {},
   "outputs": [],
   "source": [
    "# 백터 내적을 하려면 아래와 같이 해야 함.\n",
    "\n",
    "x = [1, 2, 3, 4]\n",
    "w = [1, 2, 3, 4]\n",
    "\n",
    "dot_product = sum(a * b for a, b in zip(x, w))\n",
    "print(dot_product)  # 출력: 30"
   ]
  },
  {
   "cell_type": "code",
   "execution_count": null,
   "metadata": {},
   "outputs": [],
   "source": [
    "import numpy as np\n",
    "\n",
    "x = np.array([1, 2, 3, 4])\n",
    "w = np.array([1, 2, 3, 4])\n",
    "\n",
    "dot_product = np.dot(x, w) # 백터 내적을 위한 numpy 라이브러리에 .dot()로 구현되어 있음. 가져다 쓰면 됨. / 넘파이 시간 따로 있으며 AI할 때 공부할 것임.\n",
    "print(dot_product)  # 출력: 30\n"
   ]
  },
  {
   "cell_type": "code",
   "execution_count": null,
   "metadata": {},
   "outputs": [],
   "source": [
    "# 행렬 곱하기 (행렬 곱이 중요한 것이 아니라, 머신러닝에 가면 백터 내적을 가장 많이 사용함으로 백터 내적이 가장 중요함)\n",
    "# 스스로 공부 하길 바람.\n",
    "x = [1, 2, 3, 4]\n",
    "w = [1, 2, 3, 4]\n",
    "\n",
    "dot_product = 0\n",
    "for i in range(len(x)):\n",
    "    dot_product += x[i] * w[i]\n",
    "\n",
    "print(dot_product)  # 출력: 30"
   ]
  },
  {
   "cell_type": "code",
   "execution_count": null,
   "metadata": {},
   "outputs": [
    {
     "name": "stdout",
     "output_type": "stream",
     "text": [
      "Matrix 1 (1x5):\n",
      "[0.4998302696512782, -0.9497493912509134, 0.023998768817964367, 0.6141563838365167, 0.40362198024704377]\n",
      "\n",
      "Matrix 2 (5x1):\n",
      "[-0.8439597510122425]\n",
      "[0.4704744195677144]\n",
      "[-0.016112882741132317]\n",
      "[-0.331767171286554]\n",
      "[0.5729847603639666]\n",
      "\n",
      "Matrix Product (1x1):\n",
      "[-0.8415437954182721]\n"
     ]
    }
   ],
   "source": [
    "import random\n",
    "\n",
    "# 행렬의 크기\n",
    "rows_matrix1 = 1  # matrix1은 1x5\n",
    "cols_matrix1 = 5\n",
    "\n",
    "rows_matrix2 = 5  # matrix2는 5x1\n",
    "cols_matrix2 = 1\n",
    "\n",
    "# 난수를 사용하여 두 개의 2D 리스트(행렬) 생성\n",
    "matrix1 = [[random.uniform(-1, 1) for _ in range(cols_matrix1)] for _ in range(rows_matrix1)]\n",
    "matrix2 = [[random.uniform(-1, 1)] for _ in range(rows_matrix2)]\n",
    "\n",
    "# 결과를 저장할 빈 2D 리스트 (행렬 곱셈 결과 저장용)\n",
    "# matrix1이 (1x5), matrix2가 (5x1)일 때 결과는 (1x1) 행렬\n",
    "result = [[0 for _ in range(cols_matrix2)] for _ in range(rows_matrix1)]\n",
    "\n",
    "# while 루프를 사용하여 행렬 곱셈 수행 (1x5) * (5x1) -> (1x1)\n",
    "i = 0\n",
    "while i < rows_matrix1:\n",
    "    j = 0\n",
    "    while j < cols_matrix2:\n",
    "        k = 0\n",
    "        while k < cols_matrix1:  # matrix1의 열과 matrix2의 행의 크기가 같아야 함\n",
    "            result[i][j] += matrix1[i][k] * matrix2[k][j]\n",
    "            k += 1\n",
    "        j += 1\n",
    "    i += 1\n",
    "\n",
    "# 결과 출력\n",
    "print(\"Matrix 1 (1x5):\")\n",
    "for row in matrix1:\n",
    "    print(row)\n",
    "\n",
    "print(\"\\nMatrix 2 (5x1):\")\n",
    "for row in matrix2:\n",
    "    print(row)\n",
    "\n",
    "print(\"\\nMatrix Product (1x1):\")\n",
    "for row in result:\n",
    "    print(row)"
   ]
  },
  {
   "cell_type": "markdown",
   "metadata": {},
   "source": [
    "Matrix 1 (1x5):\n",
    "[0.4998302696512782, -0.9497493912509134, 0.023998768817964367, 0.6141563838365167, 0.40362198024704377]\n",
    "\n",
    "Matrix 2 (5x1):\n",
    "[-0.8439597510122425]\n",
    "[0.4704744195677144]\n",
    "[-0.016112882741132317]\n",
    "[-0.331767171286554]\n",
    "[0.5729847603639666]\n",
    "\n",
    "Matrix Product (1x1):\n",
    "[-0.8415437954182721]"
   ]
  },
  {
   "cell_type": "code",
   "execution_count": null,
   "metadata": {},
   "outputs": [
    {
     "name": "stdout",
     "output_type": "stream",
     "text": [
      "{'sid': 2, 'sname': 'Lee', 'age': 21, 'city': 'Busan'}\n",
      "{'sid': 4, 'sname': 'Choi', 'age': 20, 'city': 'Busan'}\n"
     ]
    }
   ],
   "source": [
    "# 5개의 학생 데이터를 딕셔너리로 생성\n",
    "student1 = {'sid': 1, 'sname': 'Kim', 'age': 20, 'city': 'Seoul'}\n",
    "student2 = {'sid': 2, 'sname': 'Lee', 'age': 21, 'city': 'Busan'}\n",
    "student3 = {'sid': 3, 'sname': 'Park', 'age': 22, 'city': 'Incheon'}\n",
    "student4 = {'sid': 4, 'sname': 'Choi', 'age': 20, 'city': 'Busan'}\n",
    "student5 = {'sid': 5, 'sname': 'Jung', 'age': 23, 'city': 'Daegu'}\n",
    "\n",
    "# 학생 딕셔너리를 리스트에 저장\n",
    "students = [student1, student2, student3, student4, student5]\n",
    "\n",
    "# while 문으로 부산에 사는 학생만 출력\n",
    "i = 0\n",
    "while i < len(students):\n",
    "    if students[i]['city'] == 'Busan':\n",
    "        print(students[i])\n",
    "    i += 1"
   ]
  }
 ],
 "metadata": {
  "kernelspec": {
   "display_name": "Python 3",
   "language": "python",
   "name": "python3"
  },
  "language_info": {
   "codemirror_mode": {
    "name": "ipython",
    "version": 3
   },
   "file_extension": ".py",
   "mimetype": "text/x-python",
   "name": "python",
   "nbconvert_exporter": "python",
   "pygments_lexer": "ipython3",
   "version": "3.9.13"
  }
 },
 "nbformat": 4,
 "nbformat_minor": 2
}
