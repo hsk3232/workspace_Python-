{
 "cells": [
  {
   "cell_type": "markdown",
   "id": "8738077e",
   "metadata": {},
   "source": [
    "\n",
    "### 📘 STEP 1: 리스트 + 리스트 컴프리헨션 기본"
   ]
  },
  {
   "cell_type": "code",
   "execution_count": null,
   "id": "56a5e346",
   "metadata": {},
   "outputs": [
    {
     "name": "stdout",
     "output_type": "stream",
     "text": [
      "1번 문제 : [89, 76, 90, 66, 72]\n",
      "2번 문제 : [55, 76, 90, 72]\n",
      "3번 문제 : [False, True, True, False, True, True, True]\n"
     ]
    }
   ],
   "source": [
    "scores = [55, 89, 76, 45, 90, 66, 72]\n",
    "\n",
    "# 1. 아래의 점수 리스트에서 60점 이상만 추출하는 코드를 리스트 comprehension 작성.\n",
    "selected_scores = [score for score in scores if score >=60 ]\n",
    "print(\"1번 문제 :\", selected_scores)\n",
    "\n",
    "# 2. 짝수 인덱스에 해당하는 점수만 출력 (슬라이싱 사용).\n",
    "print(\"2번 문제 :\", scores[::2])\n",
    "\n",
    "# 3. 점수 리스트에서 **70점 이상이면 '합격', 아니면 '불합격'**으로 변환된 결과 리스트.\n",
    "for i in range(len(scores)):\n",
    "    if scores[i] >= 60:\n",
    "        scores[i] = True\n",
    "    else:\n",
    "            scores[i] = False\n",
    "print(\"3번 문제 :\", scores)"
   ]
  },
  {
   "cell_type": "markdown",
   "id": "1bc055bf",
   "metadata": {},
   "source": [
    "### 📘 STEP 2: 튜플 + 리스트 컴프리헨션"
   ]
  },
  {
   "cell_type": "code",
   "execution_count": null,
   "id": "a92aeb3c",
   "metadata": {},
   "outputs": [
    {
     "name": "stdout",
     "output_type": "stream",
     "text": [
      "1번 문제 :  ['홍길동', '유관순']\n",
      "2번 문제 :  ['재시험 대상자 - 김유신', '재시험 대상자 - 강감찬']\n"
     ]
    }
   ],
   "source": [
    "students = [(\"홍길동\", 85), (\"김유신\", 58), (\"이순신\", 76), (\"강감찬\", 45), (\"유관순\", 92)]\n",
    "\n",
    "# 1. (이름, 점수) 튜플이 있는 리스트에서 80점 이상인 학생 이름만 출력.\n",
    "selected_students_names = [name for name, score in students if score >=80]\n",
    "print(\"1번 문제 : \", selected_students_names)\n",
    "\n",
    "# 2. **점수가 60점 미만인 학생 이름만 '재시험 대상자'**로 출력하는 리스트.\n",
    "slecedted_retest_students = [\"재시험 대상자\" + \" - \" + name for name, score in students if score < 60]\n",
    "print(\"2번 문제 : \", slecedted_retest_students)"
   ]
  },
  {
   "cell_type": "markdown",
   "id": "01fae463",
   "metadata": {},
   "source": [
    "### 📘 STEP 3: 딕셔너리 + 리스트 컴프리헨션 \n"
   ]
  },
  {
   "cell_type": "code",
   "execution_count": 26,
   "id": "f23f9820",
   "metadata": {},
   "outputs": [
    {
     "name": "stdout",
     "output_type": "stream",
     "text": [
      "1번 문제 : ['홍길동', '이순신', '유관순']\n",
      "2번 문제 : 유관순 92\n"
     ]
    }
   ],
   "source": [
    "score_dict = {\n",
    "    \"홍길동\": 85,\n",
    "    \"김유신\": 58,\n",
    "    \"이순신\": 76,\n",
    "    \"강감찬\": 45,\n",
    "    \"유관순\": 92\n",
    "}\n",
    "# 1. 딕셔너리에서 점수가 70점 이상인 학생 이름 리스트\n",
    "names = [name for name, score in score_dict.items() if score >= 70 ]\n",
    "print(\"1번 문제 :\", names)\n",
    "\n",
    "# 2. 점수가 가장 높은 학생의 이름과 점수를 출력. (힌트: max() 사용)\n",
    "names2 = max(score_dict, key=score_dict.get)\n",
    "print(\"2번 문제 :\", names2, score_dict[names2])"
   ]
  },
  {
   "cell_type": "markdown",
   "id": "b23974f0",
   "metadata": {},
   "source": [
    "### 📘 STEP 4: enumerate() + 리스트 컴프리헨션\n",
    "\n",
    "예시 결과:\n",
    "['1. 홍길동', '3. 이순신', '5. 유관순']\n",
    "\n"
   ]
  },
  {
   "cell_type": "code",
   "execution_count": 43,
   "id": "deac7875",
   "metadata": {},
   "outputs": [
    {
     "name": "stdout",
     "output_type": "stream",
     "text": [
      "1번 문제 : ['1. 홍길동', '2. 김유신', '3. 이순신', '4. 강감찬', '5. 유관순']\n",
      "2번 문제 : ['1. 홍길동', '3. 이순신', '5. 유관순']\n"
     ]
    }
   ],
   "source": [
    "names = [\"홍길동\", \"김유신\", \"이순신\", \"강감찬\", \"유관순\"]\n",
    "\n",
    "# 1. 번호와 이름을 같이 출력하는 문자열 리스트. (예: \"1. 홍길동\")\n",
    "student_list = [f\"{i+1}. {name}\" for i, name in enumerate(names)]\n",
    "print(\"1번 문제 :\", student_list)\n",
    "\n",
    "# 2. 짝수 번호(1번, 3번...) 학생만 필터링해서 출력\n",
    "student_list_2 = [f\"{i+1}번\" for i, name in enumerate(names)]\n",
    "print(\"2번 문제 :\", student_list[::2])\n"
   ]
  },
  {
   "cell_type": "markdown",
   "id": "aff09d0b",
   "metadata": {},
   "source": [
    "### 📘 STEP 5: zip() + 리스트 컴프리헨션"
   ]
  },
  {
   "cell_type": "code",
   "execution_count": 71,
   "id": "93277783",
   "metadata": {},
   "outputs": [
    {
     "name": "stdout",
     "output_type": "stream",
     "text": [
      "1번 문제 : [{'홍길동': 85, '김유신': 58, '이순신': 76, '강감찬': 45, '유관순': 92}]\n",
      "1번 문제 : [{'홍길동': 85, '김유신': 58, '이순신': 76, '강감찬': 45, '유관순': 92}]\n",
      "2번 문제 : ['홍길동: 합격', '이순신: 합격', '유관순: 합격']\n"
     ]
    }
   ],
   "source": [
    "names = [\"홍길동\", \"김유신\", \"이순신\", \"강감찬\", \"유관순\"]\n",
    "scores = [85, 58, 76, 45, 92]\n",
    "\n",
    "# 1. 이름과 점수를 묶어서 \"이름: 점수점\" 형식의 리스트\n",
    "# 방법 1\n",
    "student_dict = {}\n",
    "for i in range(0, len(names)):\n",
    "    student_dict[names[i]] = scores[i]\n",
    "\n",
    "student_list = [student_dict]\n",
    "print(\"1번 문제 :\", student_list)\n",
    "\n",
    "# 방법 2\n",
    "mapping = {k:v for k, v in zip(names, scores)}\n",
    "student_list2 = [mapping]\n",
    "print(\"1번 문제 :\", student_list2)\n",
    "\n",
    "# 2. 점수가 80점 이상인 경우에만 \"이름: 합격\" 문자열 리스트.\n",
    "result_name = [name + ': 합격' for name, score in mapping.items() if score >= 60 ]\n",
    "print(\"2번 문제 :\", result_name)\n"
   ]
  },
  {
   "cell_type": "markdown",
   "id": "5251df9d",
   "metadata": {},
   "source": [
    "💡 보너스 프로젝트: 한 줄 코딩 연습\n",
    "\n",
    "\n",
    "실습 과제:\n",
    "\n",
    "- zip(), enumerate(), 조건, 슬라이싱을 모두 활용해서 \"홀수 번호 학생 중 점수가 80점 이상이면 '합격' 아니면 '불합격'\"으로 출력하는 문자열 리스트.\n",
    "\n",
    "예시 출력:\n",
    "['1. 홍길동 - 합격', '3. 이순신 - 불합격', '5. 유관순 - 합격']\n",
    "\n",
    "\n",
    "names = [\"홍길동\", \"김유신\", \"이순신\", \"강감찬\", \"유관순\"]\n",
    "scores = [85, 58, 76, 45, 92]\n"
   ]
  }
 ],
 "metadata": {
  "kernelspec": {
   "display_name": "Python 3",
   "language": "python",
   "name": "python3"
  },
  "language_info": {
   "codemirror_mode": {
    "name": "ipython",
    "version": 3
   },
   "file_extension": ".py",
   "mimetype": "text/x-python",
   "name": "python",
   "nbconvert_exporter": "python",
   "pygments_lexer": "ipython3",
   "version": "3.9.13"
  }
 },
 "nbformat": 4,
 "nbformat_minor": 5
}
