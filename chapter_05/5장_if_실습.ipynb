{
 "cells": [
  {
   "cell_type": "markdown",
   "id": "80971eeb",
   "metadata": {},
   "source": [
    "AI 데이터 분석에서 **리스트 컴프리헨션(List Comprehension)**과 그 안에서의 if 문은 데이터 전처리와 필터링 과정에서 매우 자주 사용"
   ]
  },
  {
   "cell_type": "code",
   "execution_count": 67,
   "id": "6828ed10",
   "metadata": {},
   "outputs": [
    {
     "data": {
      "text/plain": [
       "True"
      ]
     },
     "execution_count": 67,
     "metadata": {},
     "output_type": "execute_result"
    }
   ],
   "source": [
    "list=['a','b','c','d']\n",
    "'a' in list"
   ]
  },
  {
   "cell_type": "markdown",
   "id": "1a971c97",
   "metadata": {},
   "source": [
    "in 키워드는 파이썬에서 \"어떤 값이 리스트(또는 다른 컬렉션)에 존재하는지 여부를 확인할 때\" 사용\n",
    "아주 자주 쓰이는 기본 문법 중 하나"
   ]
  },
  {
   "cell_type": "code",
   "execution_count": 68,
   "id": "a1e32a89",
   "metadata": {},
   "outputs": [
    {
     "name": "stdout",
     "output_type": "stream",
     "text": [
      "True\n",
      "False\n"
     ]
    }
   ],
   "source": [
    "fruits = ['apple', 'banana', 'cherry']\n",
    "\n",
    "print('apple' in fruits)   # True\n",
    "print('grape' in fruits)   # False\n"
   ]
  },
  {
   "cell_type": "code",
   "execution_count": 69,
   "id": "e4f63c6c",
   "metadata": {},
   "outputs": [
    {
     "name": "stdout",
     "output_type": "stream",
     "text": [
      "바나나가 있어요!\n"
     ]
    }
   ],
   "source": [
    "if 'banana' in fruits:\n",
    "    print(\"바나나가 있어요!\")\n"
   ]
  },
  {
   "cell_type": "code",
   "execution_count": 70,
   "id": "e18f2e01",
   "metadata": {},
   "outputs": [
    {
     "name": "stdout",
     "output_type": "stream",
     "text": [
      "['apple', 'cherry']\n"
     ]
    }
   ],
   "source": [
    "favorite = ['apple', 'cherry']\n",
    "# for문 부터 해석해야 함. fruits에서 f를 하나씩 꺼내서 favorite에 있는지 확인하는 것.\n",
    "selected = [f for f in fruits if f in favorite] \n",
    "print(selected)  # ['apple', 'cherry']\n"
   ]
  },
  {
   "cell_type": "code",
   "execution_count": 71,
   "id": "b9f807e2",
   "metadata": {},
   "outputs": [
    {
     "name": "stdout",
     "output_type": "stream",
     "text": [
      "apple\n",
      "cherry\n"
     ]
    }
   ],
   "source": [
    "for fruit in fruits:\n",
    "    if fruit not in ['banana', 'grape']:\n",
    "        print(fruit)\n",
    "\n",
    "not_favorite = ['banana', 'grape']\n",
    "selected2 = [f for f in fruits if f not in not_favorite]\n"
   ]
  },
  {
   "cell_type": "markdown",
   "id": "c381dcf7",
   "metadata": {},
   "source": [
    "### in이 사용 가능한 자료형\n",
    "리스트 list:\t3 in [1, 2, 3] <br />\n",
    "튜플 tuple\t: 'a' in ('a', 'b') <br />\n",
    "문자열 str: \t'lo' in 'hello' <br />\n",
    "딕셔너리 dict: \t'key' in {'key': 'value'} → 키만 확인 <br />\n",
    "집합 set:\t5 in {1, 2, 3, 5} "
   ]
  },
  {
   "cell_type": "markdown",
   "id": "6ccde7d0",
   "metadata": {},
   "source": [
    "### AI/데이터 분석 실무에서 꼭 알아야 할 리스트 컴프리헨션 + if문 사용 예제"
   ]
  },
  {
   "cell_type": "code",
   "execution_count": null,
   "id": "543ade27",
   "metadata": {},
   "outputs": [
    {
     "name": "stdout",
     "output_type": "stream",
     "text": [
      "[10, 25, 30]\n"
     ]
    },
    {
     "data": {
      "text/plain": [
       "10"
      ]
     },
     "execution_count": 72,
     "metadata": {},
     "output_type": "execute_result"
    }
   ],
   "source": [
    "#1. 결측값(None, NaN, null 등) 제거\n",
    "data = [10, None, 25, None, 30]\n",
    "clean_data = [x for x in data if x is not None]\n",
    "print(clean_data)\n",
    "x = 10\n",
    "x"
   ]
  },
  {
   "cell_type": "code",
   "execution_count": 73,
   "id": "87ef7127",
   "metadata": {},
   "outputs": [
    {
     "name": "stdout",
     "output_type": "stream",
     "text": [
      "[5, 8]\n"
     ]
    }
   ],
   "source": [
    "# 2. 숫자형 데이터 중 양수만 필터링\n",
    "values = [-3, 5, 0, -1, 8]\n",
    "positive_values = [v for v in values if v > 0]\n",
    "print(positive_values)"
   ]
  },
  {
   "cell_type": "code",
   "execution_count": 74,
   "id": "f84712cf",
   "metadata": {},
   "outputs": [
    {
     "name": "stdout",
     "output_type": "stream",
     "text": [
      "['Machine Learning', 'Deep Learning']\n"
     ]
    }
   ],
   "source": [
    "#3. 문자열 리스트에서 특정 키워드 포함 항목만 추출\n",
    "texts = [\"AI is awesome\", \"I love pizza\", \"Machine Learning\", \"Deep Learning\"]\n",
    "ai_texts = [t for t in texts if \"Learning\" in t]\n",
    "print(ai_texts)"
   ]
  },
  {
   "cell_type": "code",
   "execution_count": 75,
   "id": "dfd6bda5",
   "metadata": {},
   "outputs": [
    {
     "name": "stdout",
     "output_type": "stream",
     "text": [
      "[1, 3.5, 42]\n"
     ]
    }
   ],
   "source": [
    "#4. 데이터 타입 필터링 (예: 숫자만 추출)\n",
    "mixed = [1, 'a', 3.5, 'hello', 42]\n",
    "numbers = [x for x in mixed if isinstance(x, (int, float))]\n",
    "print(numbers)"
   ]
  },
  {
   "cell_type": "code",
   "execution_count": 76,
   "id": "6a28ab87",
   "metadata": {},
   "outputs": [
    {
     "name": "stdout",
     "output_type": "stream",
     "text": [
      "['positive', 'non-positive', 'non-positive', 'positive']\n"
     ]
    }
   ],
   "source": [
    "#5. 조건에 따라 다른 값으로 변환 (if-else 사용)\n",
    "nums = [10, -5, 0, 3]\n",
    "labels = [\"positive\" if x > 0 else \"non-positive\" for x in nums]\n",
    "print(labels)"
   ]
  },
  {
   "cell_type": "code",
   "execution_count": 77,
   "id": "bb0ea41e",
   "metadata": {},
   "outputs": [
    {
     "name": "stdout",
     "output_type": "stream",
     "text": [
      "리스트가 없음\n"
     ]
    }
   ],
   "source": [
    "### 5.4.2 리스트가 비어 있는지 확인: 교재 140페이지\n",
    "#파이썬에서는 \"빈 것은 False, 무언가 있으면 True\" 로 동작한다.\n",
    "#파이썬에서 빈 컨테이너(list, tuple, dict, set, str 등)는 if 문에서 False\n",
    "if []:\n",
    "    print(\"리스트가 있음\")\n",
    "else:\n",
    "    print(\"리스트가 없음\")\n"
   ]
  },
  {
   "cell_type": "markdown",
   "id": "11815665",
   "metadata": {},
   "source": [
    "리스트\t[]\tFalse\n",
    "튜플\t()\tFalse\n",
    "딕셔너리\t{}\tFalse\n",
    "집합\tset()\tFalse\n",
    "문자열\t\"\"\tFalse\n",
    "\n",
    "0, 0.0\tFalse\n",
    "None\tFalse\n",
    "비어있는 컨테이너\tFalse"
   ]
  }
 ],
 "metadata": {
  "kernelspec": {
   "display_name": "Python 3",
   "language": "python",
   "name": "python3"
  },
  "language_info": {
   "codemirror_mode": {
    "name": "ipython",
    "version": 3
   },
   "file_extension": ".py",
   "mimetype": "text/x-python",
   "name": "python",
   "nbconvert_exporter": "python",
   "pygments_lexer": "ipython3",
   "version": "3.9.13"
  }
 },
 "nbformat": 4,
 "nbformat_minor": 5
}
