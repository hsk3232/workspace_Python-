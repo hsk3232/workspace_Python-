{
 "cells": [
  {
   "cell_type": "code",
   "execution_count": 34,
   "id": "e89dc386",
   "metadata": {},
   "outputs": [
    {
     "name": "stdout",
     "output_type": "stream",
     "text": [
      "The Zen of Python, by Tim Peters\n",
      "\n",
      "Beautiful is better than ugly.\n",
      "Explicit is better than implicit.\n",
      "Simple is better than complex.\n",
      "Complex is better than complicated.\n",
      "Flat is better than nested.\n",
      "Sparse is better than dense.\n",
      "Readability counts.\n",
      "Special cases aren't special enough to break the rules.\n",
      "Although practicality beats purity.\n",
      "Errors should never pass silently.\n",
      "Unless explicitly silenced.\n",
      "In the face of ambiguity, refuse the temptation to guess.\n",
      "There should be one-- and preferably only one --obvious way to do it.\n",
      "Although that way may not be obvious at first unless you're Dutch.\n",
      "Now is better than never.\n",
      "Although never is often better than *right* now.\n",
      "If the implementation is hard to explain, it's a bad idea.\n",
      "If the implementation is easy to explain, it may be a good idea.\n",
      "Namespaces are one honking great idea -- let's do more of those!\n"
     ]
    }
   ],
   "source": [
    "import this"
   ]
  },
  {
   "cell_type": "code",
   "execution_count": 33,
   "id": "edc01405",
   "metadata": {},
   "outputs": [
    {
     "data": {
      "text/plain": [
       "0.30000000000000004"
      ]
     },
     "execution_count": 33,
     "metadata": {},
     "output_type": "execute_result"
    }
   ],
   "source": [
    "1+2\n",
    "0.1+0.2"
   ]
  },
  {
   "cell_type": "code",
   "execution_count": 29,
   "id": "ab86dba0",
   "metadata": {},
   "outputs": [
    {
     "name": "stdout",
     "output_type": "stream",
     "text": [
      "One of Python's strength is its diverse community.\n"
     ]
    }
   ],
   "source": [
    "msg = 'One of Python\\'s strength is its diverse community.'\n",
    "print(msg)"
   ]
  },
  {
   "cell_type": "code",
   "execution_count": 26,
   "id": "e5059a3d",
   "metadata": {},
   "outputs": [
    {
     "data": {
      "text/plain": [
       "'https://nostarch.com'"
      ]
     },
     "execution_count": 26,
     "metadata": {},
     "output_type": "execute_result"
    }
   ],
   "source": [
    "nostarch_url = 'https://nostarch.com'\n",
    "\n",
    "#원래 변수를 변경하지 않고 새로운 문자열을 반환함.\n",
    "nostarch_url.removeprefix('https://')\n",
    "\n",
    "#print를 생략시 마지막 표현식의 값이 출력됨\n",
    "nostarch_url\n",
    "\n",
    "#url = nostarch_url.removeprefix('https://')\n",
    "#print(url)\n",
    "\n"
   ]
  },
  {
   "cell_type": "code",
   "execution_count": 11,
   "id": "4e8bd986",
   "metadata": {},
   "outputs": [
    {
     "name": "stdout",
     "output_type": "stream",
     "text": [
      "다른 이름\n",
      "같은 이름\n"
     ]
    }
   ],
   "source": [
    "# 문자열 비교는 공백도 포함하여 비교함\n",
    "# python은 따옴표와 쌍따옴표를 구분하지 않음\n",
    "name1 = 'python'\n",
    "name2 = \" python\"\n",
    "if name1 == name2:\n",
    "    print(\"같은 이름\")\n",
    "else:\n",
    "    print(\"다른 이름\") #공백으로 인해 다른 이름으로 인식됨\n",
    "\n",
    "# 공백을 제거하고 비교\n",
    "if name1 == name2.strip():\n",
    "    print(\"같은 이름\")\n",
    "else:\n",
    "    print(\"다른 이름\")\n"
   ]
  },
  {
   "cell_type": "code",
   "execution_count": 5,
   "id": "722aad38",
   "metadata": {},
   "outputs": [
    {
     "name": "stdout",
     "output_type": "stream",
     "text": [
      "Hello Good Day\n",
      "hello good day\n"
     ]
    }
   ],
   "source": [
    "message = \"hello good day\"\n",
    "print(message.title())\n",
    "lst = [1, 2, 3, 4, 5]\n",
    "\n",
    "print(message)"
   ]
  },
  {
   "cell_type": "code",
   "execution_count": 2,
   "id": "be37a443",
   "metadata": {},
   "outputs": [
    {
     "name": "stdout",
     "output_type": "stream",
     "text": [
      "Ada Lovelace\n"
     ]
    }
   ],
   "source": [
    "name = \"ada lovelace\"\n",
    "print(name.title())"
   ]
  },
  {
   "cell_type": "code",
   "execution_count": 13,
   "id": "43886e53",
   "metadata": {},
   "outputs": [
    {
     "name": "stdout",
     "output_type": "stream",
     "text": [
      "hello world\n",
      "hong jimin\n",
      "Hong Jimin\n",
      "Hong Jimin\n",
      "이름 = Hong\n",
      "Hello, Hong Jimin😆\n"
     ]
    }
   ],
   "source": [
    "msg = \"hello world\"\n",
    "print(msg)\n",
    "name = 'hong jimin' \n",
    "first_name = 'hong' # 파이썬에서는 변수명을 선언할 때 단어를 사용해야하고, 카멜표기법이 아니라 '_'를 사용해 구분한다.\n",
    "last_name = 'jimin'\n",
    "print (first_name + \" \" + last_name) # 문자열을 더할 때는 +를 사용한다.\n",
    "print(first_name.title() + \" \" + last_name.title()) # title() 메소드는 문자열의 첫 글자를 대문자로 바꿔준다.\n",
    "\n",
    "# format() 메소드 사용\n",
    "# full_name = \"{} {}\".format(first_name, last_name) or full_name f\"{} {}\"\n",
    "full_name = f\"{first_name} {last_name}\"\n",
    "print(full_name.title())\n",
    "print(f\"이름 = {first_name.title()}\")\n",
    "\n",
    "# formate() 메소드를 사용해 조합한 문자열도 변수 할당 가능\n",
    "message = f\"Hello, {full_name.title()}😆\"\n",
    "print(message)"
   ]
  },
  {
   "cell_type": "markdown",
   "id": "ce9a7632",
   "metadata": {},
   "source": [
    "파이썬 2장부터 실습 <br />\n",
    "주피터 노트북으로 실행 <br />\n",
    "interactive mode로 실행"
   ]
  }
 ],
 "metadata": {
  "kernelspec": {
   "display_name": "Python 3",
   "language": "python",
   "name": "python3"
  },
  "language_info": {
   "codemirror_mode": {
    "name": "ipython",
    "version": 3
   },
   "file_extension": ".py",
   "mimetype": "text/x-python",
   "name": "python",
   "nbconvert_exporter": "python",
   "pygments_lexer": "ipython3",
   "version": "3.9.13"
  }
 },
 "nbformat": 4,
 "nbformat_minor": 5
}
