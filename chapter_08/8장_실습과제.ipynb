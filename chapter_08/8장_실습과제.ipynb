{
 "cells": [
  {
   "cell_type": "markdown",
   "id": "1defc5f5",
   "metadata": {},
   "source": [
    "### ✅ 머신러닝/딥러닝을 위한 실전형 함수 작성 훈련 과제\n",
    "핵심 요소: list comprehension, tuple, dictionary, enumerate(), zip() 집중 사용"
   ]
  },
  {
   "cell_type": "markdown",
   "id": "ce6dcc59",
   "metadata": {
    "vscode": {
     "languageId": "plaintext"
    }
   },
   "source": [
    "### 🧩 STEP 1. 리스트 처리 함수 (기초 + comprehension)\n",
    "📌 과제 1 <br />\n",
    "점수 리스트를 받아 70점 이상이면 '합격', 그렇지 않으면 '불합격'으로 분류된 문자열 리스트를 반환하세요.\n",
    "\n",
    "* 입력 예시: [85, 67, 90, 45]\n",
    "* 출력 예시: ['합격', '불합격', '합격', '불합격']"
   ]
  },
  {
   "cell_type": "code",
   "execution_count": null,
   "id": "58c45e76",
   "metadata": {
    "vscode": {
     "languageId": "plaintext"
    }
   },
   "outputs": [],
   "source": []
  },
  {
   "cell_type": "markdown",
   "id": "74c3fa5b",
   "metadata": {
    "vscode": {
     "languageId": "plaintext"
    }
   },
   "source": [
    "📌 과제 2<br />\n",
    "이름 리스트를 받아 각 이름에 순번을 붙인 리스트를 반환하세요 (enumerate() 사용).\n",
    "\n",
    "* 출력 예시: ['1. 홍길동', '2. 김유신', ...]\n",
    "\n",
    "* names = [\"홍길동\", \" 김유신 \", \"이순신\", \"강 감 찬\"]"
   ]
  },
  {
   "cell_type": "code",
   "execution_count": null,
   "id": "d01ead58",
   "metadata": {
    "vscode": {
     "languageId": "plaintext"
    }
   },
   "outputs": [],
   "source": []
  },
  {
   "cell_type": "markdown",
   "id": "ba5d98b1",
   "metadata": {
    "vscode": {
     "languageId": "plaintext"
    }
   },
   "source": [
    "### 🧩 STEP 2. 튜플 & zip() 처리 함수\n",
    "📌 과제 3 <br />\n",
    "이름, 점수 두 리스트를 받아 \"홍길동: 85점\"과 같은 문자열 리스트를 반환하세요 (zip() 사용).\n",
    "\n",
    "* names = [\"홍길동\", \" 김유신 \", \"이순신\", \"강 감 찬\"]\n",
    "* scores = [85, 70, 60, 90]"
   ]
  },
  {
   "cell_type": "code",
   "execution_count": null,
   "id": "5a0b5e34",
   "metadata": {
    "vscode": {
     "languageId": "plaintext"
    }
   },
   "outputs": [],
   "source": []
  },
  {
   "cell_type": "code",
   "execution_count": null,
   "id": "3bc8b704",
   "metadata": {
    "vscode": {
     "languageId": "plaintext"
    }
   },
   "outputs": [],
   "source": []
  }
 ],
 "metadata": {
  "language_info": {
   "name": "python"
  }
 },
 "nbformat": 4,
 "nbformat_minor": 5
}
