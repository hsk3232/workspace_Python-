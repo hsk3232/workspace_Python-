{
 "cells": [
  {
   "cell_type": "markdown",
   "id": "c449703c",
   "metadata": {},
   "source": [
    "예제 1: 처음 5개 요소 추출"
   ]
  },
  {
   "cell_type": "code",
   "execution_count": 1,
   "id": "c2ffe6f5",
   "metadata": {},
   "outputs": [
    {
     "name": "stdout",
     "output_type": "stream",
     "text": [
      "[0, 1, 2, 3, 4]\n"
     ]
    }
   ],
   "source": [
    "numbers=list(range(0,11))\n",
    "print(numbers[:5])"
   ]
  },
  {
   "cell_type": "markdown",
   "id": "4af3ab7f",
   "metadata": {},
   "source": [
    " 예제 2: 마지막 3개 요소 추출"
   ]
  },
  {
   "cell_type": "code",
   "execution_count": null,
   "id": "295a8407",
   "metadata": {},
   "outputs": [
    {
     "name": "stdout",
     "output_type": "stream",
     "text": [
      "[8, 9, 10]\n"
     ]
    }
   ],
   "source": [
    "numbers=list(range(0,11))\n",
    "print(numbers[-3:])  # [8, 9, 10]\n"
   ]
  },
  {
   "cell_type": "markdown",
   "id": "ae718054",
   "metadata": {},
   "source": [
    "예제 3: 짝수 인덱스 요소만 추출"
   ]
  },
  {
   "cell_type": "code",
   "execution_count": 6,
   "id": "1e9f02df",
   "metadata": {},
   "outputs": [
    {
     "name": "stdout",
     "output_type": "stream",
     "text": [
      "0\n",
      "1\n",
      "2\n",
      "[0, 2, 4, 6, 8, 10]\n"
     ]
    }
   ],
   "source": [
    "for num in numbers[:3]:\n",
    "    print(num)  # 0 1 2\n",
    "print(numbers[::2])  # [1, 3, 5, 7, 9]\n"
   ]
  },
  {
   "cell_type": "code",
   "execution_count": null,
   "id": "707fafc3",
   "metadata": {},
   "outputs": [
    {
     "name": "stdout",
     "output_type": "stream",
     "text": [
      "[0, 1, 2, 3, 4, 5, 6, 7, 8, 9, 10]\n",
      "[0, 1, 2]\n",
      "[100, 1, 2, 3, 4, 5, 6, 7, 8, 9, 10]\n"
     ]
    }
   ],
   "source": [
    "new_numbers = numbers[:] #시작과 끝의 인덱스를 쓰지 않으면 원본 데이터의 전체 복사본\n",
    "new_numbers2 = numbers[:3] #시작과 끝의 인덱스를 쓰면 그 부분만 복사\n",
    "new_numbers[0] = 100 #원본 데이터에 영향을 주지 않음\n",
    "print(numbers)\n",
    "print(new_numbers2)\n",
    "print(new_numbers)"
   ]
  },
  {
   "cell_type": "code",
   "execution_count": null,
   "id": "eb3d1290",
   "metadata": {},
   "outputs": [],
   "source": [
    "second_numbers = numbers #원본 데이터에 영향을 줌 #자바의 참조변수와 같음, 같은 주소값을 가르키고 있음\n",
    "second_numbers[0] = 200\n",
    "print(numbers)\n",
    "print(second_numbers) "
   ]
  },
  {
   "cell_type": "markdown",
   "id": "f7ffc3da",
   "metadata": {},
   "source": [
    "예제 4: 리스트를 반으로 나누기"
   ]
  },
  {
   "cell_type": "code",
   "execution_count": 4,
   "id": "0cc008df",
   "metadata": {},
   "outputs": [
    {
     "name": "stdout",
     "output_type": "stream",
     "text": [
      "왼쪽: [0, 1, 2, 3, 4]\n",
      "오른쪽: [5, 6, 7, 8, 9, 10]\n"
     ]
    }
   ],
   "source": [
    "mid = len(numbers) // 2\n",
    "left = numbers[:mid]\n",
    "right = numbers[mid:]\n",
    "print(\"왼쪽:\", left)\n",
    "print(\"오른쪽:\", right)\n"
   ]
  },
  {
   "cell_type": "markdown",
   "id": "207afdbc",
   "metadata": {},
   "source": [
    "예제 5: 리스트를 거꾸로 뒤집기 (역순)"
   ]
  },
  {
   "cell_type": "code",
   "execution_count": 5,
   "id": "9503c1d9",
   "metadata": {},
   "outputs": [
    {
     "name": "stdout",
     "output_type": "stream",
     "text": [
      "[10, 9, 8, 7, 6, 5, 4, 3, 2, 1, 0]\n"
     ]
    }
   ],
   "source": [
    "numbers=list(range(0,11))\n",
    "print(numbers[::-1])  # [10, 9, ..., 1]\n"
   ]
  },
  {
   "cell_type": "markdown",
   "id": "5d82cc3b",
   "metadata": {},
   "source": [
    "예제 9: 슬라이스로 전체 복사 (얕은 복사)"
   ]
  },
  {
   "cell_type": "code",
   "execution_count": null,
   "id": "9da61fc4",
   "metadata": {},
   "outputs": [
    {
     "name": "stdout",
     "output_type": "stream",
     "text": [
      "[0, 1, 2, 3, 4, 5, 6, 7, 8, 9, 10]\n",
      "False\n",
      "True\n"
     ]
    }
   ],
   "source": [
    "copy = numbers[:] # deep copy - 원본 데이터와 다른 객체를 생성함. 깊은 복사\n",
    "print(copy)\n",
    "print(copy is numbers)  # False (다른 객체)\n",
    "a = numbers # shallow copy - 참조 변수를 카피함. 얕은 복사\n",
    "print(a is numbers)\n"
   ]
  }
 ],
 "metadata": {
  "kernelspec": {
   "display_name": "Python 3",
   "language": "python",
   "name": "python3"
  },
  "language_info": {
   "codemirror_mode": {
    "name": "ipython",
    "version": 3
   },
   "file_extension": ".py",
   "mimetype": "text/x-python",
   "name": "python",
   "nbconvert_exporter": "python",
   "pygments_lexer": "ipython3",
   "version": "3.9.13"
  }
 },
 "nbformat": 4,
 "nbformat_minor": 5
}
