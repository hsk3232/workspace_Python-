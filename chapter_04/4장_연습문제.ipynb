{
 "cells": [
  {
   "cell_type": "code",
   "execution_count": 1,
   "id": "c0ea2170",
   "metadata": {},
   "outputs": [
    {
     "name": "stdout",
     "output_type": "stream",
     "text": [
      "1 2 3 4 5 6 7 8 9 10 11 12 13 14 15 16 17 18 19 20 "
     ]
    }
   ],
   "source": [
    "#4-3 20까지 세기\n",
    "for i in range(1, 21):\n",
    "    print(i, end=' ')"
   ]
  },
  {
   "cell_type": "code",
   "execution_count": null,
   "id": "5ee51cd1",
   "metadata": {},
   "outputs": [
    {
     "name": "stdout",
     "output_type": "stream",
     "text": [
      "[1, 2, 3, 4, 5, 6, 7, 8, 9, 10, 11, 12, 13, 14, 15, 16, 17, 18, 19, 20, 21, 22, 23, 24, 25, 26, 27, 28, 29, 30, 31, 32, 33, 34, 35, 36, 37, 38, 39, 40, 41, 42, 43, 44, 45, 46, 47, 48, 49, 50, 51, 52, 53, 54, 55, 56, 57, 58, 59, 60, 61, 62, 63, 64, 65, 66, 67, 68, 69, 70, 71, 72, 73, 74, 75, 76, 77, 78, 79, 80, 81, 82, 83, 84, 85, 86, 87, 88, 89, 90, 91, 92, 93, 94, 95, 96, 97, 98, 99]\n"
     ]
    }
   ],
   "source": [
    "#4-4 백만\n",
    "new_list = []\n",
    "for i in range(1, 1000001):\n",
    "    new_list.append(i)\n",
    "\n",
    "print(new_list)"
   ]
  },
  {
   "cell_type": "code",
   "execution_count": null,
   "id": "89b73a98",
   "metadata": {},
   "outputs": [
    {
     "data": {
      "text/plain": [
       "(99, 1, 4950)"
      ]
     },
     "execution_count": 2,
     "metadata": {},
     "output_type": "execute_result"
    }
   ],
   "source": [
    "#4-5 백만까지 합계\n",
    "min(new_list), max(new_list), sum(new_list)"
   ]
  },
  {
   "cell_type": "code",
   "execution_count": 3,
   "id": "e414120b",
   "metadata": {},
   "outputs": [
    {
     "name": "stdout",
     "output_type": "stream",
     "text": [
      "[1, 3, 5, 7, 9, 11, 13, 15, 17, 19]\n"
     ]
    }
   ],
   "source": [
    "#4-6 홀수 리스트 만들기\n",
    "list = []\n",
    "for i in range(1, 21, 2):\n",
    "    list.append(i)\n",
    "\n",
    "print(list)"
   ]
  },
  {
   "cell_type": "code",
   "execution_count": 5,
   "id": "687aedea",
   "metadata": {},
   "outputs": [
    {
     "name": "stdout",
     "output_type": "stream",
     "text": [
      "[3, 6, 9, 12, 15, 18, 21, 24, 27, 30]\n"
     ]
    }
   ],
   "source": [
    "# 4-7 3의 배수 리스트 만들기\n",
    "list = []\n",
    "for i in range(3, 31, 3):\n",
    "    list.append(i)\n",
    "\n",
    "print(list)"
   ]
  },
  {
   "cell_type": "code",
   "execution_count": 9,
   "id": "c2a803f0",
   "metadata": {},
   "outputs": [
    {
     "name": "stdout",
     "output_type": "stream",
     "text": [
      "[1, 8, 27, 64, 125, 216, 343, 512, 729]\n"
     ]
    }
   ],
   "source": [
    "# 4-8 세제곱\n",
    "list = []\n",
    "\n",
    "for i in range(1, 10):\n",
    "    i = i**3\n",
    "    list.append(i)\n",
    "\n",
    "print(list)"
   ]
  },
  {
   "cell_type": "code",
   "execution_count": null,
   "id": "7010b63b",
   "metadata": {},
   "outputs": [],
   "source": [
    "# 4-9 세제곱 리스트 (list 내포문)\n",
    "list=[]\n",
    "for i in range(1, 11):\n",
    "    list.append(i**3)\n",
    "\n",
    "print(list)"
   ]
  },
  {
   "cell_type": "code",
   "execution_count": 13,
   "id": "4b676f56",
   "metadata": {},
   "outputs": [
    {
     "name": "stdout",
     "output_type": "stream",
     "text": [
      "리스트의 첫 세 항목은 :\n",
      "['pizza', 'falafel', 'carrot cake']\n",
      "리스트의 중간 세 항목은 :\n",
      "['carrot cake', 'cannoli', 'ice cream']\n",
      "리스트의 마지막 세 항목은 :\n",
      "['ice cream', 'pasta', 'cocoa']\n"
     ]
    }
   ],
   "source": [
    "#4-10 슬라이스\n",
    "my_foods = ['pizza', 'falafel', 'carrot cake', 'cannoli', 'ice cream', 'pasta', 'cocoa']\n",
    "\n",
    "print(\"리스트의 첫 세 항목은 :\")\n",
    "print(my_foods[0:3])\n",
    "\n",
    "print(\"리스트의 중간 세 항목은 :\") # 나누기는 //로 나누기\n",
    "print(my_foods[len(my_foods)//2-1:len(my_foods)//2+2])\n",
    "\n",
    "print(\"리스트의 마지막 세 항목은 :\")\n",
    "print(my_foods[-3:])"
   ]
  },
  {
   "cell_type": "code",
   "execution_count": 18,
   "id": "17885699",
   "metadata": {},
   "outputs": [
    {
     "name": "stdout",
     "output_type": "stream",
     "text": [
      "내가 좋아하는 피자 :\n",
      "pepperoni\n",
      "cheese\n",
      "vegetable\n",
      "all_meat\n",
      "\n",
      "내 친구가 좋아하는 피자 :\n",
      "pepperoni\n",
      "cheese\n",
      "vegetable\n",
      "seafood\n"
     ]
    }
   ],
   "source": [
    "# 4-11 피자\n",
    "my_pizzas = ['pepperoni', 'cheese', 'vegetable']\n",
    "friend_pizzas = my_pizzas[:]\n",
    "my_pizzas.append('all_meat')\n",
    "\n",
    "friend_pizzas.append('seafood')\n",
    "\n",
    "print(\"내가 좋아하는 피자 :\")\n",
    "for pizza1 in my_pizzas:\n",
    "    print(pizza1)\n",
    "\n",
    "print(\"\\n내 친구가 좋아하는 피자 :\")\n",
    "for pizza2 in friend_pizzas:\n",
    "    print(pizza2)"
   ]
  },
  {
   "cell_type": "code",
   "execution_count": null,
   "id": "52d7e7ee",
   "metadata": {},
   "outputs": [
    {
     "name": "stdout",
     "output_type": "stream",
     "text": [
      "My favorite foods are:\n",
      "['pizza', 'falafel', 'carrot cake', 'cannoli']\n",
      "\n",
      "My friend's favorite foods are:\n",
      "['pizza', 'falafel', 'carrot cake', 'ice cream']\n",
      "내가 좋아하는 피자 :\n",
      "pizza\n",
      "falafel\n",
      "carrot cake\n",
      "cannoli\n",
      "\n",
      "내 친구가 좋아하는 피자 :\n",
      "pizza\n",
      "falafel\n",
      "carrot cake\n",
      "ice cream\n"
     ]
    }
   ],
   "source": [
    "# 4-12 루프 연습\n",
    "my_foods = ['pizza', 'falafel', 'carrot cake']\n",
    "friend_foods = my_foods[:]\n",
    "\n",
    "my_foods.append('cannoli')\n",
    "friend_foods.append('ice cream')\n",
    "\n",
    "print(\"My favorite foods are:\")\n",
    "print(my_foods)\n",
    "\n",
    "print(\"\\nMy friend's favorite foods are:\")\n",
    "print(friend_foods)\n",
    "print(\"\\n\")\n",
    "\n",
    "print(\"내가 좋아하는 피자 :\")\n",
    "for my in my_foods:\n",
    "    print(my)\n",
    "\n",
    "print(\"\\n내 친구가 좋아하는 피자 :\")\n",
    "for friend in friend_foods:\n",
    "    print(friend)"
   ]
  },
  {
   "cell_type": "code",
   "execution_count": null,
   "id": "855b18c6",
   "metadata": {},
   "outputs": [],
   "source": []
  }
 ],
 "metadata": {
  "kernelspec": {
   "display_name": "Python 3",
   "language": "python",
   "name": "python3"
  },
  "language_info": {
   "codemirror_mode": {
    "name": "ipython",
    "version": 3
   },
   "file_extension": ".py",
   "mimetype": "text/x-python",
   "name": "python",
   "nbconvert_exporter": "python",
   "pygments_lexer": "ipython3",
   "version": "3.9.13"
  }
 },
 "nbformat": 4,
 "nbformat_minor": 5
}
