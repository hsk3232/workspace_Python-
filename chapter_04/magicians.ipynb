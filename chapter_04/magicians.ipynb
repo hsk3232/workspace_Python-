{
 "cells": [
  {
   "cell_type": "code",
   "execution_count": null,
   "id": "39293334",
   "metadata": {},
   "outputs": [],
   "source": [
    "for value in range(0, 10):\n",
    "    print(value)\n",
    "\n",
    "lst = [1, 2, 3, 4]\n",
    "for num in lst:\n",
    "    print(num)"
   ]
  },
  {
   "cell_type": "code",
   "execution_count": null,
   "id": "e7228c3a",
   "metadata": {},
   "outputs": [],
   "source": [
    "for value in range(1, 5):\n",
    "    print(value)"
   ]
  },
  {
   "cell_type": "code",
   "execution_count": 1,
   "id": "7f393035",
   "metadata": {},
   "outputs": [
    {
     "name": "stdout",
     "output_type": "stream",
     "text": [
      "[1, 2, 3, 4, 5]\n",
      "range(1, 6)\n"
     ]
    }
   ],
   "source": [
    "numbers = list(range(1, 6))\n",
    "print(numbers)\n",
    "\n",
    "numbers_range = range(1, 6)\n",
    "print(numbers_range)"
   ]
  },
  {
   "cell_type": "code",
   "execution_count": 7,
   "id": "6145e696",
   "metadata": {},
   "outputs": [
    {
     "name": "stdout",
     "output_type": "stream",
     "text": [
      "[0, 2, 4, 6, 8, 10]\n",
      "[1, 3, 5, 7, 9]\n",
      "[0, 2, 4, 6, 8, 10, 1, 3, 5, 7, 9]\n",
      "[0, 2, 4, 6, 8, 10, 0, 2, 4, 6, 8, 10]\n",
      "[0, 2, 4]\n",
      "[0, 2, 4, 6, 8, 10]\n"
     ]
    }
   ],
   "source": [
    "a = list(range(0, 11, 2))\n",
    "b = list(range(1, 11, 2))\n",
    "print(a)\n",
    "print(b)\n",
    "print(a+b)\n",
    "# print(a-b) 리스트끼리 뺄샘은 안됨\n",
    "print(a*2) # 리스트 반복 가능\n",
    "#print(a*b) # 리스트끼리 곱셈은 안됨\n",
    "print(a[0:3]) # 리스트 슬라이싱 가능\n",
    "c = [x for x in a if x not in b]\n",
    "print(c) # 리스트 컴프리헨션 가능"
   ]
  },
  {
   "cell_type": "code",
   "execution_count": null,
   "id": "387d179a",
   "metadata": {},
   "outputs": [
    {
     "name": "stdout",
     "output_type": "stream",
     "text": [
      "[1, 4, 9, 16, 25, 36, 49, 64, 81, 100]\n"
     ]
    }
   ],
   "source": [
    "squares = []\n",
    "for value in range(1, 11):\n",
    "    square = value ** 2\n",
    "    squares.append(square)\n",
    "print(squares)\n",
    "\n",
    "# 리스트 컴프리헨션을 사용해서 동일한 결과를 얻기\n",
    "squares2 = [num*num for num in range(1, 11)]\n",
    "print(squares2)"
   ]
  },
  {
   "cell_type": "code",
   "execution_count": 14,
   "id": "c24df0f3",
   "metadata": {},
   "outputs": [
    {
     "name": "stdout",
     "output_type": "stream",
     "text": [
      "0는 a\n",
      "1는 b\n",
      "2는 c\n",
      "3는 d\n",
      "0는 a\n",
      "1는 b\n",
      "2는 c\n",
      "3는 d\n"
     ]
    }
   ],
   "source": [
    "list = ['a', 'b', 'c', 'd']\n",
    "for i in range(len(list)):\n",
    "    print(\"{}는 {}\".format(i, list[i]))\n",
    "\n",
    "for i, value in enumerate(list):\n",
    "    print(\"{}는 {}\".format(i,value))"
   ]
  },
  {
   "cell_type": "code",
   "execution_count": null,
   "id": "95e5c6a2",
   "metadata": {},
   "outputs": [],
   "source": [
    "magicians = ['alice', 'david', 'carolina']\n",
    "# java의 확장형 for문과 비슷한 형태로 사용함.\n",
    "# python은 {} 대신 :과 들여쓰기(4칸)를 사용함.\n",
    "for magician in magicians:\n",
    "    print(f\"{magician.title()}, that was a great trick!\")\n",
    "    print(f\"I can't wait to see your next trick, {magician.title()}.\\n\")\n",
    "\n",
    "print(\"Thank you, everyone. That was a great magic show!\")"
   ]
  }
 ],
 "metadata": {
  "kernelspec": {
   "display_name": "Python 3",
   "language": "python",
   "name": "python3"
  },
  "language_info": {
   "codemirror_mode": {
    "name": "ipython",
    "version": 3
   },
   "file_extension": ".py",
   "mimetype": "text/x-python",
   "name": "python",
   "nbconvert_exporter": "python",
   "pygments_lexer": "ipython3",
   "version": "3.9.13"
  }
 },
 "nbformat": 4,
 "nbformat_minor": 5
}
