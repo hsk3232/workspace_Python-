{
 "cells": [
  {
   "cell_type": "code",
   "execution_count": null,
   "id": "b888a951",
   "metadata": {},
   "outputs": [
    {
     "name": "stdout",
     "output_type": "stream",
     "text": [
      "['trek', 'cannondale', 'redline', 'specialized']\n",
      "trek\n",
      "Trek\n",
      "specialized\n",
      "mtb\n",
      "['MTB', 'cannondale', 'redline', 'specialized', 'ducati']\n",
      "['ducati', 'honda', 'yamaha', 'suzuki']\n",
      "['honda', 'yamaha', 'suzuki']\n",
      "honda\n"
     ]
    }
   ],
   "source": [
    "bicycles = ['trek', 'cannondale', 'redline', 'specialized']\n",
    "print(bicycles)\n",
    "print(bicycles[0])\n",
    "print(bicycles[0].title())\n",
    "print(bicycles[-1])\n",
    "\n",
    "# Java와 다르게, Python에서는 리스트의 각 원소도 참조변수로 바꿀 수 있다.\n",
    "# bicycles[0]은 trek을 가르키다가 MTB를 향하도록 바꿔준다.\n",
    "bicycles[0] = 'MTB'\n",
    "# bicycles[0]은 참조변수 임으로 .을 활용해 메소드를 사용할 수 있다.\n",
    "print(bicycles[0].lower())\n",
    "\n",
    "# append() 메소드를 사용해 리스트에 원소를 추가할 수 있다.\n",
    "# append() 메소드는 리스트의 마지막에 원소를 추가한다.\n",
    "bicycles.append('ducati')\n",
    "print(bicycles)\n",
    "\n",
    "# insert() 메소드를 사용해 리스트의 특정 위치에 원소를 추가할 수 있다.\n",
    "# insert(index, value) 형태로 사용한다.\n",
    "motorcycles = ['honda', 'yamaha', 'suzuki']\n",
    "motorcycles.insert(0, 'ducati')\n",
    "print(motorcycles)\n",
    "\n",
    "# delete() 메소드를 사용해 리스트의 특정 위치에 원소를 삭제할 수 있다.\n",
    "# delete(index) 형태로 사용한다.\n",
    "del motorcycles[0]\n",
    "print(motorcycles)\n",
    "\n",
    "my_dream_bike = motorcycles.pop(0)\n",
    "print(my_dream_bike)\n",
    "\n",
    "\n"
   ]
  }
 ],
 "metadata": {
  "kernelspec": {
   "display_name": "Python 3",
   "language": "python",
   "name": "python3"
  },
  "language_info": {
   "codemirror_mode": {
    "name": "ipython",
    "version": 3
   },
   "file_extension": ".py",
   "mimetype": "text/x-python",
   "name": "python",
   "nbconvert_exporter": "python",
   "pygments_lexer": "ipython3",
   "version": "3.9.13"
  }
 },
 "nbformat": 4,
 "nbformat_minor": 5
}
